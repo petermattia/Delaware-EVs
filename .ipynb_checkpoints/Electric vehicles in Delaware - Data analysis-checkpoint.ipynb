{
 "cells": [
  {
   "cell_type": "markdown",
   "metadata": {},
   "source": [
    "# \"Alternative-fuel\" vehicles in Delaware: Data analysis\n",
    "Peter Attia, [petermattia.com](http://petermattia.com)\n",
    "\n",
    "Last updated November 8, 2017\n",
    "\n",
    "This notebook investigates alternative-fuel vehicle purchases in Delaware. Alternative-fuel vehicles include:\n",
    "- Battery electric vehicles (BEVs)\n",
    "- Plug-in hybrid electric vehicles (PHEVs)\n",
    "- Propane or natural gas vehicles\n",
    "\n",
    "Rebates data downloaded on October 22, 2017 (data last updated October 2, 2017) from [this link](https://data.delaware.gov/Energy-and-Environment/State-Rebates-for-Alternative-Fuel-Vehicles/8z8z-di7f)\n",
    "\n",
    "More information about the program:\n",
    "- http://dnrec.alpha.delaware.gov/energy-climate/clean-transportation/vehicle-rebates/\n",
    "- http://www.dnrec.delaware.gov/energy/Pages/The-Delaware-Clean-Vehicle-Rebate-Program.aspx\n",
    "- http://www.dnrec.delaware.gov/energy/Pages/Clean-Transportation-Incentives-Home.aspx\n",
    "- http://www.dnrec.delaware.gov/energy/Pages/Clean-Transportation-July2015-October2016.aspx\n",
    "\n",
    "This notebook contains the data analysis process for this dataset. [Another notebook](http://nbviewer.jupyter.org/github/petermattia/Delaware-EVs/blob/master/Electric%20vehicles%20in%20Delaware%20-%20Data%20analysis.ipynb) shows the data cleaning.\n",
    "\n",
    "## Imports and defaults"
   ]
  },
  {
   "cell_type": "code",
   "execution_count": null,
   "metadata": {
    "collapsed": true
   },
   "outputs": [],
   "source": [
    "# IMPORTS\n",
    "import numpy as np\n",
    "import pandas as pd\n",
    "from collections import Counter\n",
    "import matplotlib.pyplot as plt\n",
    "import seaborn as sns\n",
    "import folium\n",
    "import json\n",
    "\n",
    "# DEFAULTS\n",
    "%matplotlib inline\n",
    "pd.set_option(\"display.max_rows\",10)\n",
    "pd.set_option(\"display.max_columns\",20)\n",
    "sns.set(font_scale=2)\n",
    "sns.set_style(\"dark\")"
   ]
  },
  {
   "cell_type": "markdown",
   "metadata": {},
   "source": [
    "## Load the cleaned `rebates` dataset"
   ]
  },
  {
   "cell_type": "code",
   "execution_count": null,
   "metadata": {},
   "outputs": [],
   "source": [
    "rebates = pd.read_csv('State_Rebates_for_Alternative-Fuel_Vehicles_cleaned.csv')\n",
    "rebates[\"Date_of_Purchase\"] = pd.to_datetime(rebates[\"Date_of_Purchase\"]) # must adjust in this notebook\n",
    "rebates"
   ]
  },
  {
   "cell_type": "markdown",
   "metadata": {},
   "source": [
    "## Preliminary data exploration\n",
    "### Ages\n",
    "#### All alternative fuel vehicles"
   ]
  },
  {
   "cell_type": "code",
   "execution_count": null,
   "metadata": {},
   "outputs": [],
   "source": [
    "fig = plt.figure(figsize=(10, 4)) \n",
    "plt.subplot(1,2,1)\n",
    "rebates[\"Age\"].dropna().hist(bins=np.arange(20,100,1))\n",
    "plt.xlim(20,100)\n",
    "plt.xlabel('Age'),plt.ylabel('Frequency')\n",
    "\n",
    "plt.subplot(1,2,2)\n",
    "rebates[\"Age\"].dropna().hist(bins=np.arange(20,110,10))\n",
    "plt.xlabel('Age (decade of life)'),plt.ylabel('Frequency')\n",
    "plt.xlim(20,100)\n",
    "\n",
    "plt.tight_layout()\n",
    "plt.savefig('age.png',bbox_inches='tight')"
   ]
  },
  {
   "cell_type": "code",
   "execution_count": null,
   "metadata": {
    "scrolled": true
   },
   "outputs": [],
   "source": [
    "Counter(rebates[\"Age\"]).most_common(5)"
   ]
  },
  {
   "cell_type": "markdown",
   "metadata": {},
   "source": [
    "#### Just Teslas"
   ]
  },
  {
   "cell_type": "code",
   "execution_count": null,
   "metadata": {},
   "outputs": [],
   "source": [
    "fig = plt.figure(figsize=(10, 4)) \n",
    "plt.subplot(1,2,1)\n",
    "rebates[rebates['Make'] == 'Tesla'][\"Age\"].dropna().hist(bins=np.arange(20,100,1))\n",
    "plt.xlabel('Age'),plt.ylabel('Frequency')\n",
    "plt.xlim(20,100)\n",
    "\n",
    "plt.subplot(1,2,2)\n",
    "rebates[rebates['Make'] == 'Tesla'][\"Age\"].dropna().hist(bins=np.arange(20,100,10))\n",
    "plt.xlabel('Age (decade of life)'),plt.ylabel('Frequency')\n",
    "plt.xlim(20,100)\n",
    "\n",
    "plt.tight_layout()\n",
    "plt.savefig('age_tesla.png',bbox_inches='tight')"
   ]
  },
  {
   "cell_type": "markdown",
   "metadata": {},
   "source": [
    "### County"
   ]
  },
  {
   "cell_type": "markdown",
   "metadata": {
    "collapsed": true
   },
   "source": [
    "#### All alternative fuel vehicles"
   ]
  },
  {
   "cell_type": "code",
   "execution_count": null,
   "metadata": {},
   "outputs": [],
   "source": [
    "rebates['County'].value_counts().plot(kind='barh')\n",
    "plt.xlabel('Number of alternative fuel vehicles')"
   ]
  },
  {
   "cell_type": "markdown",
   "metadata": {
    "collapsed": true
   },
   "source": [
    "#### Just Teslas"
   ]
  },
  {
   "cell_type": "code",
   "execution_count": null,
   "metadata": {},
   "outputs": [],
   "source": [
    "rebates[rebates['Make']=='Tesla']['County'].value_counts().plot(kind='barh')\n",
    "plt.xlabel('Number of Teslas')"
   ]
  },
  {
   "cell_type": "markdown",
   "metadata": {},
   "source": [
    "#### Fraction of purchases that are Teslas"
   ]
  },
  {
   "cell_type": "code",
   "execution_count": null,
   "metadata": {},
   "outputs": [],
   "source": [
    "(100 * rebates[rebates['Make']=='Tesla']['County'].value_counts() / rebates['County'].value_counts()).plot(kind='barh')\n",
    "plt.xlabel('Fraction of Teslas of total alternative fuel vehicles (%)')"
   ]
  },
  {
   "cell_type": "markdown",
   "metadata": {},
   "source": [
    "#### Combined plot"
   ]
  },
  {
   "cell_type": "code",
   "execution_count": null,
   "metadata": {},
   "outputs": [],
   "source": [
    "fig = plt.figure(figsize=(15, 4)) \n",
    "\n",
    "plt.subplot(1,3,1)\n",
    "rebates['County'].value_counts().plot(kind='barh')\n",
    "plt.title('Number of \\nalternative fuel vehicles')\n",
    "plt.xlabel('Count')\n",
    "\n",
    "plt.subplot(1,3,2)\n",
    "rebates[rebates['Make']=='Tesla']['County'].value_counts().plot(kind='barh')\n",
    "plt.title('Number of Teslas')\n",
    "plt.xlabel('Count')\n",
    "plt.gca().set_yticklabels(['','',''])\n",
    "\n",
    "plt.subplot(1,3,3)\n",
    "(100 * rebates[rebates['Make']=='Tesla']['County'].value_counts() / rebates['County'].value_counts()).plot(kind='barh')\n",
    "plt.title('Fraction of Teslas of total\\nalternative fuel vehicles')\n",
    "plt.xlabel('Percent (%)')\n",
    "plt.gca().set_yticklabels(['','',''])\n",
    "\n",
    "plt.tight_layout()\n",
    "plt.savefig('counties.png',bbox_inches='tight')"
   ]
  },
  {
   "cell_type": "markdown",
   "metadata": {},
   "source": [
    "### Makes"
   ]
  },
  {
   "cell_type": "code",
   "execution_count": null,
   "metadata": {},
   "outputs": [],
   "source": [
    "rebates['Make'].value_counts(ascending=True).plot(kind='barh',figsize=(8,6))\n",
    "plt.xlabel('Vehicle count')\n",
    "plt.savefig('make.png',bbox_inches='tight')"
   ]
  },
  {
   "cell_type": "markdown",
   "metadata": {},
   "source": [
    "### Models"
   ]
  },
  {
   "cell_type": "code",
   "execution_count": null,
   "metadata": {},
   "outputs": [],
   "source": [
    "Counter(rebates[\"Model\"])\n",
    "rebates['Model'].value_counts(ascending=True).plot(kind='barh',figsize=(14,10))\n",
    "plt.xlabel('Count')\n",
    "plt.savefig('models.png',bbox_inches='tight')"
   ]
  },
  {
   "cell_type": "markdown",
   "metadata": {},
   "source": [
    "### Vehicle type"
   ]
  },
  {
   "cell_type": "code",
   "execution_count": null,
   "metadata": {},
   "outputs": [],
   "source": [
    "rebates[\"Vehicle_Type\"].value_counts(ascending=True).plot(kind='barh')\n",
    "plt.savefig('vehicle_types.png',bbox_inches='tight')"
   ]
  },
  {
   "cell_type": "markdown",
   "metadata": {},
   "source": [
    "Propane vehicles are coach buses"
   ]
  },
  {
   "cell_type": "code",
   "execution_count": null,
   "metadata": {},
   "outputs": [],
   "source": [
    "rebates[rebates['Dealership'] != 'Coach and Equipment/ Coach Bus Sales']['Vehicle_Type'].value_counts(ascending=True).plot(kind='barh')"
   ]
  },
  {
   "cell_type": "markdown",
   "metadata": {},
   "source": [
    "#### Most popular electric vehicle models"
   ]
  },
  {
   "cell_type": "code",
   "execution_count": null,
   "metadata": {},
   "outputs": [],
   "source": [
    "rebates[rebates[\"Vehicle_Type\"] == 'Electric']['Model'].value_counts(ascending=True).plot(kind='barh')\n",
    "plt.xlabel('Count')\n",
    "plt.savefig('electric_models.png',bbox_inches='tight')"
   ]
  },
  {
   "cell_type": "markdown",
   "metadata": {
    "collapsed": true
   },
   "source": [
    "### Zipcodes"
   ]
  },
  {
   "cell_type": "code",
   "execution_count": null,
   "metadata": {},
   "outputs": [],
   "source": [
    "zip_counter = Counter(rebates[\"Zip\"])\n",
    "zip_df = pd.DataFrame.from_dict(zip_counter, orient='index').reset_index()\n",
    "zip_df = zip_df.rename(columns={'index':'Zip', 0:'Count'})\n",
    "zip_df['Zip'] = zip_df['Zip'].astype(str)\n",
    "zip_df"
   ]
  },
  {
   "cell_type": "markdown",
   "metadata": {},
   "source": [
    "#### Population by zip code\n",
    "Zip code population data from: https://blog.splitwise.com/2013/09/18/the-2010-us-census-population-by-zip-code-totally-free/"
   ]
  },
  {
   "cell_type": "code",
   "execution_count": null,
   "metadata": {},
   "outputs": [],
   "source": [
    "zip_pop_df = pd.read_csv('2010+Census+Population+By+Zipcode+(ZCTA).csv')\n",
    "zip_pop_df = zip_pop_df.rename(columns={'Zip Code ZCTA':'Zip', '2010 Census Population':'population'})\n",
    "zip_pop_df['Zip'] = zip_pop_df['Zip'].astype(str)\n",
    "zip_pop_df"
   ]
  },
  {
   "cell_type": "markdown",
   "metadata": {},
   "source": [
    "#### Normalize count by population to get count per capita"
   ]
  },
  {
   "cell_type": "code",
   "execution_count": null,
   "metadata": {},
   "outputs": [],
   "source": [
    "zip_df_merged = pd.merge(zip_df, zip_pop_df, on='Zip')\n",
    "zip_df_merged['count_norm'] = zip_df_merged.Count / zip_df_merged.population * 1e3\n",
    "zip_df_merged"
   ]
  },
  {
   "cell_type": "markdown",
   "metadata": {},
   "source": [
    "#### Just Teslas"
   ]
  },
  {
   "cell_type": "code",
   "execution_count": null,
   "metadata": {},
   "outputs": [],
   "source": [
    "tesla_zip_counter = Counter(rebates[rebates['Make']=='Tesla'][\"Zip\"])\n",
    "tesla_zip_df = pd.DataFrame.from_dict(tesla_zip_counter, orient='index').reset_index()\n",
    "tesla_zip_df = tesla_zip_df.rename(columns={'index':'Zip', 0:'Count'})\n",
    "tesla_zip_df['Zip'] = tesla_zip_df['Zip'].astype(str)\n",
    "tesla_zip_df_merged = pd.merge(tesla_zip_df, zip_pop_df, on='Zip')\n",
    "tesla_zip_df_merged['count_norm'] = tesla_zip_df_merged.Count / tesla_zip_df_merged.population * 1e3\n",
    "tesla_zip_df_merged"
   ]
  },
  {
   "cell_type": "markdown",
   "metadata": {},
   "source": [
    "## Maps\n",
    "Obtained zip code geo-data from https://github.com/OpenDataDE:\n",
    "https://github.com/OpenDataDE/de-geojson-data/tree/master/census/de_zipcode_boundaries.min.json"
   ]
  },
  {
   "cell_type": "code",
   "execution_count": null,
   "metadata": {},
   "outputs": [],
   "source": [
    "geo_json_data = json.load(open('de_zipcode_boundaries.min.json'))\n",
    "geo_json_data['features'][0]['properties'] # zip code data in ZCTA5CE10"
   ]
  },
  {
   "cell_type": "markdown",
   "metadata": {},
   "source": [
    "#### Make screenshot function"
   ]
  },
  {
   "cell_type": "code",
   "execution_count": null,
   "metadata": {
    "collapsed": true
   },
   "outputs": [],
   "source": [
    "def save_map(m,filename):\n",
    "    import os\n",
    "    import time\n",
    "    from selenium import webdriver\n",
    " \n",
    "    delay=5\n",
    " \n",
    "    #Save the map as an HTML file\n",
    "    fn= filename + '.html'\n",
    "    cwd = os.getcwd()\n",
    "    tmpurl='file://' + cwd + '/' + fn\n",
    "    tmpurl = tmpurl.format(path=os.getcwd(),mapfile=fn)\n",
    "    m.save(fn)\n",
    " \n",
    "    #Open a browser window...\n",
    "    browser = webdriver.Safari()\n",
    "    #..that displays the map...\n",
    "    browser.get(tmpurl)\n",
    "    #Give the map tiles some time to load\n",
    "    time.sleep(delay)\n",
    "    #Grab the screenshot\n",
    "    browser.save_screenshot(filename + '.png')\n",
    "    #Close the browser\n",
    "    browser.quit()"
   ]
  },
  {
   "cell_type": "code",
   "execution_count": null,
   "metadata": {
    "collapsed": true,
    "scrolled": true
   },
   "outputs": [],
   "source": [
    "# Test GeoJSON data\n",
    "m = folium.Map(location=[39.2108325,-75.5276699], zoom_start=9, width=500, height=800)\n",
    "folium.GeoJson(geo_json_data).add_to(m)\n",
    "# For these maps to load, make sure you launch jupyter as:\n",
    "#    jupyter notebook --NotebookApp.iopub_data_rate_limit=10000000000\n",
    "# See https://github.com/jupyter/notebook/issues/2287 for more details.\n",
    "save_map(m,'counties_map')\n",
    "m"
   ]
  },
  {
   "cell_type": "markdown",
   "metadata": {},
   "source": [
    "### Number of alternative fuel vehicles per zip code"
   ]
  },
  {
   "cell_type": "code",
   "execution_count": null,
   "metadata": {
    "collapsed": true,
    "scrolled": true
   },
   "outputs": [],
   "source": [
    "def DE_map(data, column, legend):\n",
    "    # Creates standard choropleth map of Delaware for different zip codes\n",
    "    m = folium.Map(location=[39.2108325,-75.5276699], zoom_start = 9,width=600,height=900)\n",
    "    m.choropleth(\n",
    "        geo_data=geo_json_data,\n",
    "        name='choropleth',\n",
    "        data=data,\n",
    "        columns=['Zip', column],\n",
    "        key_on='feature.properties.ZCTA5CE10', # zip code property\n",
    "        fill_color='YlGn',\n",
    "        fill_opacity=0.7,\n",
    "        line_opacity=0.2,\n",
    "        legend_name=legend\n",
    "    )\n",
    "    folium.LayerControl().add_to(m)\n",
    "    return m\n",
    "    \n",
    "zip_map = DE_map(zip_df, 'Count', 'Number of alternative fuel vehicles')\n",
    "save_map(zip_map,'afv_total_map')\n",
    "zip_map"
   ]
  },
  {
   "cell_type": "markdown",
   "metadata": {},
   "source": [
    "### Alternative fuel vehicles per 1000 people per zip code"
   ]
  },
  {
   "cell_type": "code",
   "execution_count": null,
   "metadata": {},
   "outputs": [],
   "source": [
    "zip_map_norm = DE_map(zip_df_merged[zip_df_merged.count_norm<10], 'count_norm', 'Alternative fuel vehicles per 1000 people')\n",
    "save_map(zip_map_norm,'afv_norm_map')\n",
    "zip_map_norm"
   ]
  },
  {
   "cell_type": "markdown",
   "metadata": {},
   "source": [
    "### Teslas per 1000 people per zip code"
   ]
  },
  {
   "cell_type": "code",
   "execution_count": null,
   "metadata": {
    "collapsed": true
   },
   "outputs": [],
   "source": [
    "tesla_zip_map_norm = DE_map(tesla_zip_df_merged[tesla_zip_df_merged.count_norm<10], 'count_norm', 'Teslas per 1000 people')\n",
    "save_map(tesla_zip_map_norm,'tesla_map')\n",
    "tesla_zip_map_norm"
   ]
  },
  {
   "cell_type": "markdown",
   "metadata": {
    "collapsed": true
   },
   "source": [
    "## Change in rebate policy"
   ]
  },
  {
   "cell_type": "markdown",
   "metadata": {},
   "source": [
    "July 15, 2015 to Oct. 31, 2016 = 15.5 months\n",
    "Nov. 1, 2016 to Oct. 4, 2017 = 11 months \n",
    "\n",
    "New policy basically targets Teslas - check out the [list of electric vehicles eligible for the $3500 update](http://www.dnrec.delaware.gov/energy/Documents/Transportation%20Program/Clean%20Transportation%20Updates/Vehicle%20List.pdf). It's basically everything but Teslas"
   ]
  },
  {
   "cell_type": "code",
   "execution_count": null,
   "metadata": {
    "collapsed": true
   },
   "outputs": [],
   "source": [
    "old_rebates = rebates[rebates[\"Date_of_Purchase\"]<pd.to_datetime('2016/10/31')] # 2016/10/31 is date of change\n",
    "new_rebates = rebates[rebates[\"Date_of_Purchase\"]>pd.to_datetime('2016/10/31')] # 2016/10/31 is date of change"
   ]
  },
  {
   "cell_type": "code",
   "execution_count": null,
   "metadata": {},
   "outputs": [],
   "source": [
    "old_rebates"
   ]
  },
  {
   "cell_type": "code",
   "execution_count": null,
   "metadata": {},
   "outputs": [],
   "source": [
    "new_rebates"
   ]
  },
  {
   "cell_type": "code",
   "execution_count": null,
   "metadata": {},
   "outputs": [],
   "source": [
    "len(old_rebates.index)/15.5, len(new_rebates.index)/11 # Vehicles/month"
   ]
  },
  {
   "cell_type": "code",
   "execution_count": null,
   "metadata": {
    "collapsed": true
   },
   "outputs": [],
   "source": [
    "old_PEV = len(old_rebates[old_rebates[\"Vehicle_Type\"]==\"Plug-in Hybrid\"].index)\n",
    "new_PEV = len(new_rebates[new_rebates[\"Vehicle_Type\"]==\"Plug-in Hybrid\"].index)\n",
    "change_PEV = 100 * (new_PEV/11 - old_PEV/15.5)/(old_PEV/15.5)\n",
    "\n",
    "old_electric = len(old_rebates[old_rebates[\"Vehicle_Type\"]=='Electric'].index) \n",
    "new_electric = len(new_rebates[new_rebates[\"Vehicle_Type\"]=='Electric'].index)\n",
    "change_electric = 100 * (new_electric/11 - old_electric/15.5)/(old_electric/15.5)\n",
    "\n",
    "old_electric_lowcost = len(old_rebates[(old_rebates['Make'] != 'Tesla') & (old_rebates['Vehicle_Type'] =='Electric')].index)\n",
    "new_electric_lowcost = len(new_rebates[new_rebates[\"Rebate_Amount\"]=='$3500.00'].index) # only new BEVs with MSRP < $60k\n",
    "change_electric_lowcost = 100 * (new_electric_lowcost/11 - old_electric_lowcost/15.5)/(old_electric_lowcost/15.5)\n",
    "\n",
    "old_tesla = len(old_rebates[old_rebates[\"Make\"]==\"Tesla\"].index)\n",
    "new_tesla = len(new_rebates[new_rebates[\"Make\"]==\"Tesla\"].index)\n",
    "change_tesla = 100 * (new_tesla/11 - old_tesla/15.5)/(old_tesla/15.5)"
   ]
  },
  {
   "cell_type": "markdown",
   "metadata": {},
   "source": [
    "### Change in # of alternative fuel vehicles per month"
   ]
  },
  {
   "cell_type": "code",
   "execution_count": null,
   "metadata": {
    "scrolled": true
   },
   "outputs": [],
   "source": [
    "old_PEV, new_PEV, change_PEV"
   ]
  },
  {
   "cell_type": "code",
   "execution_count": null,
   "metadata": {},
   "outputs": [],
   "source": [
    "old_electric, new_electric, change_electric"
   ]
  },
  {
   "cell_type": "code",
   "execution_count": null,
   "metadata": {},
   "outputs": [],
   "source": [
    "old_electric_lowcost, new_electric_lowcost, change_electric_lowcost"
   ]
  },
  {
   "cell_type": "code",
   "execution_count": null,
   "metadata": {},
   "outputs": [],
   "source": [
    "old_tesla, new_tesla, change_tesla"
   ]
  },
  {
   "cell_type": "code",
   "execution_count": null,
   "metadata": {},
   "outputs": [],
   "source": [
    "labels = ('','Tesla','Electric non-Tesla','Electric','PHEV')\n",
    "fig, ax = plt.subplots()\n",
    "ax.barh(np.arange(4),[change_tesla,change_electric_lowcost,change_electric,change_PEV])\n",
    "ax.set_yticklabels(labels)\n",
    "plt.xlabel('Percent change in purchases/month after policy change')\n",
    "plt.axvline(x=0,color='r',linestyle='dashed')\n",
    "plt.savefig('policy_change_type.png',bbox_inches='tight')"
   ]
  },
  {
   "cell_type": "code",
   "execution_count": null,
   "metadata": {},
   "outputs": [],
   "source": [
    "old_tesla/old_electric, new_tesla/new_electric"
   ]
  },
  {
   "cell_type": "code",
   "execution_count": null,
   "metadata": {},
   "outputs": [],
   "source": [
    "# Before policy change\n",
    "old_rebates['Make'].value_counts(ascending=True).plot(kind='barh')\n",
    "plt.xlabel('Vehicle count')\n",
    "\n",
    "# After policy change\n",
    "plt.figure()\n",
    "new_rebates['Make'].value_counts(ascending=True).plot(kind='barh')\n",
    "plt.xlabel('Vehicle count')\n",
    "\n",
    "# Change due to policy\n",
    "make_change_dict = {};\n",
    "make_set = set.intersection(set(old_rebates['Make'].unique()),set(new_rebates['Make'].unique()))\n",
    "for make in make_set:\n",
    "    make_change_dict[make] = 100*(new_rebates['Make'].value_counts()[make]/11 - old_rebates['Make'].value_counts()[make]/15.5) / (old_rebates['Make'].value_counts()[make]/15.5)\n",
    "\n",
    "plt.figure()\n",
    "plt.barh(range(len(make_change_dict)), make_change_dict.values(), align='center')\n",
    "plt.yticks(range(len(make_change_dict)), make_change_dict.keys())\n",
    "plt.xlabel('Change in purchases/month (%)')\n",
    "plt.axvline(x=0,color='r',linestyle='dashed')\n",
    "plt.savefig('policy_change_make.png',bbox_inches='tight')"
   ]
  },
  {
   "cell_type": "code",
   "execution_count": null,
   "metadata": {},
   "outputs": [],
   "source": [
    "old_rebates['Make'].value_counts()"
   ]
  },
  {
   "cell_type": "code",
   "execution_count": null,
   "metadata": {},
   "outputs": [],
   "source": [
    "new_rebates['Make'].value_counts()"
   ]
  },
  {
   "cell_type": "markdown",
   "metadata": {},
   "source": [
    "### Date of purchase trends"
   ]
  },
  {
   "cell_type": "code",
   "execution_count": null,
   "metadata": {},
   "outputs": [],
   "source": [
    "fig = plt.figure(figsize=(20, 10)) \n",
    "\n",
    "# Plug-in hybrids\n",
    "plt.subplot(2,2,1)\n",
    "dop_phev = rebates[rebates['Vehicle_Type']=='Plug-in Hybrid']['Date_of_Purchase']\n",
    "dop_phev = dop_phev.groupby(dop_phev).apply(lambda x: sum(dop_phev<x.name))\n",
    "dop_phev.plot()\n",
    "plt.xlabel('Date of Purchase')\n",
    "plt.ylabel('Cumulative vehicles sold')\n",
    "plt.title('Plug-in Hybrids')\n",
    "plt.xlim('2015-09','2017-09')\n",
    "plt.axvline(x='2016/11/01',color='r',linestyle='dashed')\n",
    "\n",
    "# Electric\n",
    "plt.subplot(2,2,2)\n",
    "dop_electric = rebates[rebates['Vehicle_Type']=='Electric']['Date_of_Purchase']\n",
    "dop_electric = dop_electric.groupby(dop_electric).apply(lambda x: sum(dop_electric<x.name))\n",
    "dop_electric.plot()\n",
    "plt.xlabel('Date of Purchase')\n",
    "plt.ylabel('Cumulative vehicles sold')\n",
    "plt.title('Electric Vehicles')\n",
    "plt.xlim('2015-09','2017-09')\n",
    "plt.axvline(x='2016/11/01',color='r',linestyle='dashed')\n",
    "\n",
    "# Non-Tesla electric\n",
    "plt.subplot(2,2,3)\n",
    "dop_electric_nottesla = rebates[(rebates['Make'] != 'Tesla') & (rebates['Vehicle_Type'] =='Electric')]['Date_of_Purchase']\n",
    "dop_electric_nottesla = dop_electric_nottesla.groupby(dop_electric_nottesla).apply(lambda x: sum(dop_electric_nottesla<x.name))\n",
    "dop_electric_nottesla.plot()\n",
    "plt.xlabel('Date of Purchase')\n",
    "plt.ylabel('Cumulative vehicles sold')\n",
    "plt.title('Non-Tesla Electric Vehicles')\n",
    "plt.xlim('2015-09','2017-09')\n",
    "plt.axvline(x='2016/11/01',color='r',linestyle='dashed')\n",
    "\n",
    "# Tesla\n",
    "plt.subplot(2,2,4)\n",
    "dop_tesla = rebates[rebates['Make']=='Tesla']['Date_of_Purchase']\n",
    "dop_tesla = dop_tesla.groupby(dop_tesla).apply(lambda x: sum(dop_tesla<x.name))\n",
    "dop_tesla.plot()\n",
    "plt.xlabel('Date of Purchase')\n",
    "plt.ylabel('Cumulative vehicles sold')\n",
    "plt.title('Teslas')\n",
    "plt.xlim('2015-09','2017-09')\n",
    "plt.axvline(x='2016/11/01',color='r',linestyle='dashed')\n",
    "\n",
    "plt.tight_layout()\n",
    "plt.savefig('policy_change_trends.png',bbox_inches='tight')"
   ]
  },
  {
   "cell_type": "code",
   "execution_count": null,
   "metadata": {
    "collapsed": true
   },
   "outputs": [],
   "source": []
  }
 ],
 "metadata": {
  "kernelspec": {
   "display_name": "Python 3",
   "language": "python",
   "name": "python3"
  },
  "language_info": {
   "codemirror_mode": {
    "name": "ipython",
    "version": 3
   },
   "file_extension": ".py",
   "mimetype": "text/x-python",
   "name": "python",
   "nbconvert_exporter": "python",
   "pygments_lexer": "ipython3",
   "version": "3.6.2"
  }
 },
 "nbformat": 4,
 "nbformat_minor": 2
}
