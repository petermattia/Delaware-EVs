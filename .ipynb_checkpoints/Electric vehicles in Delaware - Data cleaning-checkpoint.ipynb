{
 "cells": [
  {
   "cell_type": "markdown",
   "metadata": {},
   "source": [
    "# \"Alternative-fuel\" vehicles in Delaware: Data cleaning\n",
    "Peter Attia, [petermattia.com](http://petermattia.com)\n",
    "\n",
    "Last updated October 24, 2017\n",
    "\n",
    "This notebook investigates alternative-fuel vehicle purchases in Delaware. Alternative-fuel vehicles include:\n",
    "- Battery electric vehicles (BEVs)\n",
    "- Plug-in hybrid electric vehicles (PHEVs)\n",
    "- Propane or natural gas vehicles\n",
    "\n",
    "Rebates data downloaded on October 22, 2017 (data last updated October 2, 2017) from [this link](https://data.delaware.gov/Energy-and-Environment/State-Rebates-for-Alternative-Fuel-Vehicles/8z8z-di7f)\n",
    "\n",
    "More information about the program:\n",
    "- http://dnrec.alpha.delaware.gov/energy-climate/clean-transportation/vehicle-rebates/\n",
    "- http://www.dnrec.delaware.gov/energy/Pages/The-Delaware-Clean-Vehicle-Rebate-Program.aspx\n",
    "- http://www.dnrec.delaware.gov/energy/Pages/Clean-Transportation-Incentives-Home.aspx\n",
    "- http://www.dnrec.delaware.gov/energy/Pages/Clean-Transportation-July2015-October2016.aspx\n",
    "\n",
    "## Imports and defaults"
   ]
  },
  {
   "cell_type": "code",
   "execution_count": 1,
   "metadata": {
    "collapsed": true
   },
   "outputs": [],
   "source": [
    "# IMPORTS\n",
    "import pandas as pd\n",
    "from collections import Counter\n",
    "\n",
    "# DEFAULTS\n",
    "pd.set_option(\"display.max_rows\",10)\n",
    "pd.set_option(\"display.max_columns\",20)"
   ]
  },
  {
   "cell_type": "markdown",
   "metadata": {},
   "source": [
    "## Load the `rebates` dataset"
   ]
  },
  {
   "cell_type": "code",
   "execution_count": 13,
   "metadata": {},
   "outputs": [
    {
     "data": {
      "text/html": [
       "<div>\n",
       "<style>\n",
       "    .dataframe thead tr:only-child th {\n",
       "        text-align: right;\n",
       "    }\n",
       "\n",
       "    .dataframe thead th {\n",
       "        text-align: left;\n",
       "    }\n",
       "\n",
       "    .dataframe tbody tr th {\n",
       "        vertical-align: top;\n",
       "    }\n",
       "</style>\n",
       "<table border=\"1\" class=\"dataframe\">\n",
       "  <thead>\n",
       "    <tr style=\"text-align: right;\">\n",
       "      <th></th>\n",
       "      <th>Unnamed: 0</th>\n",
       "      <th>Award_Number</th>\n",
       "      <th>Rebate_Amount</th>\n",
       "      <th>City</th>\n",
       "      <th>State</th>\n",
       "      <th>County</th>\n",
       "      <th>Zip</th>\n",
       "      <th>Age</th>\n",
       "      <th>Gender</th>\n",
       "      <th>Date_of_Purchase</th>\n",
       "      <th>Dealership</th>\n",
       "      <th>Vehicle_Type</th>\n",
       "      <th>Make</th>\n",
       "      <th>Model</th>\n",
       "      <th>Year</th>\n",
       "      <th>Lease?</th>\n",
       "      <th>Gasoline_Emissions</th>\n",
       "      <th>Alt-Fuel_Emissions</th>\n",
       "    </tr>\n",
       "  </thead>\n",
       "  <tbody>\n",
       "    <tr>\n",
       "      <th>0</th>\n",
       "      <td>0</td>\n",
       "      <td>CVR071501</td>\n",
       "      <td>$2200.00</td>\n",
       "      <td>Hockessin</td>\n",
       "      <td>DE</td>\n",
       "      <td>New Castle</td>\n",
       "      <td>19707</td>\n",
       "      <td>81.0</td>\n",
       "      <td>M</td>\n",
       "      <td>07/20/2015</td>\n",
       "      <td>Sheridan Ford</td>\n",
       "      <td>Plug-in Hybrid</td>\n",
       "      <td>Ford</td>\n",
       "      <td>Fusion Energi</td>\n",
       "      <td>2016</td>\n",
       "      <td>No</td>\n",
       "      <td>14815.0</td>\n",
       "      <td>6575.0</td>\n",
       "    </tr>\n",
       "    <tr>\n",
       "      <th>1</th>\n",
       "      <td>1</td>\n",
       "      <td>CVR071502</td>\n",
       "      <td>$2200.00</td>\n",
       "      <td>Wilmington</td>\n",
       "      <td>DE</td>\n",
       "      <td>New Castle</td>\n",
       "      <td>19809</td>\n",
       "      <td>47.0</td>\n",
       "      <td>M</td>\n",
       "      <td>07/20/2015</td>\n",
       "      <td>Porter Ford</td>\n",
       "      <td>Plug-in Hybrid</td>\n",
       "      <td>Ford</td>\n",
       "      <td>C-Max Energi</td>\n",
       "      <td>2015</td>\n",
       "      <td>Yes</td>\n",
       "      <td>14815.0</td>\n",
       "      <td>6575.0</td>\n",
       "    </tr>\n",
       "    <tr>\n",
       "      <th>2</th>\n",
       "      <td>2</td>\n",
       "      <td>CVR071503</td>\n",
       "      <td>$2200.00</td>\n",
       "      <td>Wilmington</td>\n",
       "      <td>DE</td>\n",
       "      <td>New Castle</td>\n",
       "      <td>19810</td>\n",
       "      <td>47.0</td>\n",
       "      <td>M</td>\n",
       "      <td>07/22/2015</td>\n",
       "      <td>Darcars of Lanham Severn. Inc.</td>\n",
       "      <td>Electric</td>\n",
       "      <td>Ford</td>\n",
       "      <td>Focus Electric</td>\n",
       "      <td>2015</td>\n",
       "      <td>Yes</td>\n",
       "      <td>14815.0</td>\n",
       "      <td>5539.0</td>\n",
       "    </tr>\n",
       "    <tr>\n",
       "      <th>3</th>\n",
       "      <td>3</td>\n",
       "      <td>CVR071504</td>\n",
       "      <td>$2200.00</td>\n",
       "      <td>Wilmington</td>\n",
       "      <td>DE</td>\n",
       "      <td>New Castle</td>\n",
       "      <td>19808</td>\n",
       "      <td>66.0</td>\n",
       "      <td>M</td>\n",
       "      <td>07/20/2015</td>\n",
       "      <td>Sheridan Ford</td>\n",
       "      <td>Plug-in Hybrid</td>\n",
       "      <td>Ford</td>\n",
       "      <td>C-Max Energi</td>\n",
       "      <td>2015</td>\n",
       "      <td>Yes</td>\n",
       "      <td>14815.0</td>\n",
       "      <td>6575.0</td>\n",
       "    </tr>\n",
       "    <tr>\n",
       "      <th>4</th>\n",
       "      <td>4</td>\n",
       "      <td>CVR071505</td>\n",
       "      <td>$2200.00</td>\n",
       "      <td>New Castle</td>\n",
       "      <td>DE</td>\n",
       "      <td>New Castle</td>\n",
       "      <td>19720</td>\n",
       "      <td>51.0</td>\n",
       "      <td>M</td>\n",
       "      <td>07/24/2015</td>\n",
       "      <td>Sheridan Ford</td>\n",
       "      <td>Plug-in Hybrid</td>\n",
       "      <td>Ford</td>\n",
       "      <td>Fusion Energi</td>\n",
       "      <td>2015</td>\n",
       "      <td>Yes</td>\n",
       "      <td>14815.0</td>\n",
       "      <td>6575.0</td>\n",
       "    </tr>\n",
       "    <tr>\n",
       "      <th>...</th>\n",
       "      <td>...</td>\n",
       "      <td>...</td>\n",
       "      <td>...</td>\n",
       "      <td>...</td>\n",
       "      <td>...</td>\n",
       "      <td>...</td>\n",
       "      <td>...</td>\n",
       "      <td>...</td>\n",
       "      <td>...</td>\n",
       "      <td>...</td>\n",
       "      <td>...</td>\n",
       "      <td>...</td>\n",
       "      <td>...</td>\n",
       "      <td>...</td>\n",
       "      <td>...</td>\n",
       "      <td>...</td>\n",
       "      <td>...</td>\n",
       "      <td>...</td>\n",
       "    </tr>\n",
       "    <tr>\n",
       "      <th>510</th>\n",
       "      <td>510</td>\n",
       "      <td>CVR0616147</td>\n",
       "      <td>$1100.00</td>\n",
       "      <td>Dover</td>\n",
       "      <td>DE</td>\n",
       "      <td>Kent</td>\n",
       "      <td>19901</td>\n",
       "      <td>NaN</td>\n",
       "      <td>NaN</td>\n",
       "      <td>04/20/2016</td>\n",
       "      <td>Coach and Equipment/ Coach Bus Sales</td>\n",
       "      <td>Propane</td>\n",
       "      <td>Ford</td>\n",
       "      <td>E-450 Phoenix</td>\n",
       "      <td>2016</td>\n",
       "      <td>No</td>\n",
       "      <td>NaN</td>\n",
       "      <td>NaN</td>\n",
       "    </tr>\n",
       "    <tr>\n",
       "      <th>511</th>\n",
       "      <td>511</td>\n",
       "      <td>CVR0616148</td>\n",
       "      <td>$1100.00</td>\n",
       "      <td>Dover</td>\n",
       "      <td>DE</td>\n",
       "      <td>Kent</td>\n",
       "      <td>19901</td>\n",
       "      <td>NaN</td>\n",
       "      <td>NaN</td>\n",
       "      <td>04/20/2016</td>\n",
       "      <td>Coach and Equipment/ Coach Bus Sales</td>\n",
       "      <td>Propane</td>\n",
       "      <td>Ford</td>\n",
       "      <td>E-450 Phoenix</td>\n",
       "      <td>2016</td>\n",
       "      <td>No</td>\n",
       "      <td>NaN</td>\n",
       "      <td>NaN</td>\n",
       "    </tr>\n",
       "    <tr>\n",
       "      <th>512</th>\n",
       "      <td>512</td>\n",
       "      <td>CVR0616149</td>\n",
       "      <td>$1100.00</td>\n",
       "      <td>Dover</td>\n",
       "      <td>DE</td>\n",
       "      <td>Kent</td>\n",
       "      <td>19901</td>\n",
       "      <td>NaN</td>\n",
       "      <td>NaN</td>\n",
       "      <td>04/20/2016</td>\n",
       "      <td>Coach and Equipment/ Coach Bus Sales</td>\n",
       "      <td>Propane</td>\n",
       "      <td>Ford</td>\n",
       "      <td>E-450 Phoenix</td>\n",
       "      <td>2016</td>\n",
       "      <td>No</td>\n",
       "      <td>NaN</td>\n",
       "      <td>NaN</td>\n",
       "    </tr>\n",
       "    <tr>\n",
       "      <th>513</th>\n",
       "      <td>513</td>\n",
       "      <td>CVR0616150</td>\n",
       "      <td>$1100.00</td>\n",
       "      <td>Dover</td>\n",
       "      <td>DE</td>\n",
       "      <td>Kent</td>\n",
       "      <td>19901</td>\n",
       "      <td>NaN</td>\n",
       "      <td>NaN</td>\n",
       "      <td>04/20/2016</td>\n",
       "      <td>Coach and Equipment/ Coach Bus Sales</td>\n",
       "      <td>Propane</td>\n",
       "      <td>Ford</td>\n",
       "      <td>E-450 Phoenix</td>\n",
       "      <td>2016</td>\n",
       "      <td>No</td>\n",
       "      <td>NaN</td>\n",
       "      <td>NaN</td>\n",
       "    </tr>\n",
       "    <tr>\n",
       "      <th>514</th>\n",
       "      <td>514</td>\n",
       "      <td>CVR0616151</td>\n",
       "      <td>$1100.00</td>\n",
       "      <td>Dover</td>\n",
       "      <td>DE</td>\n",
       "      <td>Kent</td>\n",
       "      <td>19901</td>\n",
       "      <td>NaN</td>\n",
       "      <td>NaN</td>\n",
       "      <td>04/20/2016</td>\n",
       "      <td>Coach and Equipment/ Coach Bus Sales</td>\n",
       "      <td>Propane</td>\n",
       "      <td>Ford</td>\n",
       "      <td>E-450 Phoenix</td>\n",
       "      <td>2016</td>\n",
       "      <td>No</td>\n",
       "      <td>NaN</td>\n",
       "      <td>NaN</td>\n",
       "    </tr>\n",
       "  </tbody>\n",
       "</table>\n",
       "<p>515 rows × 18 columns</p>\n",
       "</div>"
      ],
      "text/plain": [
       "     Unnamed: 0 Award_Number Rebate_Amount        City State      County  \\\n",
       "0             0    CVR071501      $2200.00   Hockessin    DE  New Castle   \n",
       "1             1    CVR071502      $2200.00  Wilmington    DE  New Castle   \n",
       "2             2    CVR071503      $2200.00  Wilmington    DE  New Castle   \n",
       "3             3    CVR071504      $2200.00  Wilmington    DE  New Castle   \n",
       "4             4    CVR071505      $2200.00  New Castle    DE  New Castle   \n",
       "..          ...          ...           ...         ...   ...         ...   \n",
       "510         510   CVR0616147      $1100.00       Dover    DE        Kent   \n",
       "511         511   CVR0616148      $1100.00       Dover    DE        Kent   \n",
       "512         512   CVR0616149      $1100.00       Dover    DE        Kent   \n",
       "513         513   CVR0616150      $1100.00       Dover    DE        Kent   \n",
       "514         514   CVR0616151      $1100.00       Dover    DE        Kent   \n",
       "\n",
       "       Zip   Age Gender Date_of_Purchase  \\\n",
       "0    19707  81.0      M       07/20/2015   \n",
       "1    19809  47.0      M       07/20/2015   \n",
       "2    19810  47.0      M       07/22/2015   \n",
       "3    19808  66.0      M       07/20/2015   \n",
       "4    19720  51.0      M       07/24/2015   \n",
       "..     ...   ...    ...              ...   \n",
       "510  19901   NaN    NaN       04/20/2016   \n",
       "511  19901   NaN    NaN       04/20/2016   \n",
       "512  19901   NaN    NaN       04/20/2016   \n",
       "513  19901   NaN    NaN       04/20/2016   \n",
       "514  19901   NaN    NaN       04/20/2016   \n",
       "\n",
       "                               Dealership    Vehicle_Type  Make  \\\n",
       "0                           Sheridan Ford  Plug-in Hybrid  Ford   \n",
       "1                             Porter Ford  Plug-in Hybrid  Ford   \n",
       "2         Darcars of Lanham Severn. Inc.         Electric  Ford   \n",
       "3                           Sheridan Ford  Plug-in Hybrid  Ford   \n",
       "4                           Sheridan Ford  Plug-in Hybrid  Ford   \n",
       "..                                    ...             ...   ...   \n",
       "510  Coach and Equipment/ Coach Bus Sales         Propane  Ford   \n",
       "511  Coach and Equipment/ Coach Bus Sales         Propane  Ford   \n",
       "512  Coach and Equipment/ Coach Bus Sales         Propane  Ford   \n",
       "513  Coach and Equipment/ Coach Bus Sales         Propane  Ford   \n",
       "514  Coach and Equipment/ Coach Bus Sales         Propane  Ford   \n",
       "\n",
       "              Model  Year Lease?  Gasoline_Emissions  Alt-Fuel_Emissions  \n",
       "0     Fusion Energi  2016     No             14815.0              6575.0  \n",
       "1      C-Max Energi  2015    Yes             14815.0              6575.0  \n",
       "2    Focus Electric  2015    Yes             14815.0              5539.0  \n",
       "3      C-Max Energi  2015    Yes             14815.0              6575.0  \n",
       "4     Fusion Energi  2015    Yes             14815.0              6575.0  \n",
       "..              ...   ...    ...                 ...                 ...  \n",
       "510   E-450 Phoenix  2016     No                 NaN                 NaN  \n",
       "511   E-450 Phoenix  2016     No                 NaN                 NaN  \n",
       "512   E-450 Phoenix  2016     No                 NaN                 NaN  \n",
       "513   E-450 Phoenix  2016     No                 NaN                 NaN  \n",
       "514   E-450 Phoenix  2016     No                 NaN                 NaN  \n",
       "\n",
       "[515 rows x 18 columns]"
      ]
     },
     "execution_count": 13,
     "metadata": {},
     "output_type": "execute_result"
    }
   ],
   "source": [
    "rebates = pd.read_csv('State_Rebates_for_Alternative-Fuel_Vehicles_.csv')\n",
    "rebates.columns = [c.replace(' ', '_') for c in rebates.columns]\n",
    "rebates"
   ]
  },
  {
   "cell_type": "markdown",
   "metadata": {},
   "source": [
    "## Data cleaning"
   ]
  },
  {
   "cell_type": "markdown",
   "metadata": {},
   "source": [
    "### County"
   ]
  },
  {
   "cell_type": "markdown",
   "metadata": {
    "collapsed": true
   },
   "source": [
    "#### All alternative fuel vehicles"
   ]
  },
  {
   "cell_type": "code",
   "execution_count": 3,
   "metadata": {},
   "outputs": [
    {
     "data": {
      "text/plain": [
       "Counter({'Kent': 76, 'Kent ': 1, 'New Castle': 330, 'Sussex': 108})"
      ]
     },
     "execution_count": 3,
     "metadata": {},
     "output_type": "execute_result"
    }
   ],
   "source": [
    "Counter(rebates[\"County\"])"
   ]
  },
  {
   "cell_type": "markdown",
   "metadata": {},
   "source": [
    "Remove whitespace in 'Kent' with str.strip()"
   ]
  },
  {
   "cell_type": "code",
   "execution_count": 4,
   "metadata": {},
   "outputs": [
    {
     "data": {
      "text/plain": [
       "Counter({'Kent': 77, 'New Castle': 330, 'Sussex': 108})"
      ]
     },
     "execution_count": 4,
     "metadata": {},
     "output_type": "execute_result"
    }
   ],
   "source": [
    "rebates[\"County\"] = rebates[\"County\"].str.strip()\n",
    "Counter(rebates[\"County\"])"
   ]
  },
  {
   "cell_type": "markdown",
   "metadata": {},
   "source": [
    "### Makes"
   ]
  },
  {
   "cell_type": "code",
   "execution_count": 5,
   "metadata": {},
   "outputs": [
    {
     "data": {
      "text/plain": [
       "Counter({'Audi': 5,\n",
       "         'BMW': 18,\n",
       "         'BMW ': 7,\n",
       "         'Cadillac': 1,\n",
       "         'Chevrolet': 89,\n",
       "         'FORD': 1,\n",
       "         'Ford': 268,\n",
       "         'Ford ': 2,\n",
       "         'Hyundai': 3,\n",
       "         'Kia': 1,\n",
       "         'Mercedes-Benz': 2,\n",
       "         'Nissan': 20,\n",
       "         'Porsche ': 2,\n",
       "         'Tesla': 69,\n",
       "         'Tesla ': 1,\n",
       "         'Toyota': 22,\n",
       "         'Volvo': 2,\n",
       "         'ford': 2})"
      ]
     },
     "execution_count": 5,
     "metadata": {},
     "output_type": "execute_result"
    }
   ],
   "source": [
    "Counter(rebates[\"Make\"])"
   ]
  },
  {
   "cell_type": "code",
   "execution_count": 6,
   "metadata": {},
   "outputs": [
    {
     "data": {
      "text/plain": [
       "Counter({'Audi': 5,\n",
       "         'BMW': 25,\n",
       "         'Cadillac': 1,\n",
       "         'Chevrolet': 89,\n",
       "         'Ford': 273,\n",
       "         'Hyundai': 3,\n",
       "         'Kia': 1,\n",
       "         'Mercedes-Benz': 2,\n",
       "         'Nissan': 20,\n",
       "         'Porsche': 2,\n",
       "         'Tesla': 70,\n",
       "         'Toyota': 22,\n",
       "         'Volvo': 2})"
      ]
     },
     "execution_count": 6,
     "metadata": {},
     "output_type": "execute_result"
    }
   ],
   "source": [
    "rebates[\"Make\"] = rebates[\"Make\"].str.title() # change FORD and ford to Ford\n",
    "rebates[\"Make\"] = rebates[\"Make\"].str.strip() # remove trailing whitespace\n",
    "rebates[\"Make\"] = rebates[\"Make\"].str.replace(\"Bmw\",\"BMW\") # to be anal\n",
    "Counter(rebates[\"Make\"])"
   ]
  },
  {
   "cell_type": "markdown",
   "metadata": {},
   "source": [
    "### Models"
   ]
  },
  {
   "cell_type": "code",
   "execution_count": 7,
   "metadata": {},
   "outputs": [
    {
     "data": {
      "text/plain": [
       "Counter({'330C': 1,\n",
       "         '330e': 3,\n",
       "         '530E': 1,\n",
       "         'A3 Sportback e-tron': 5,\n",
       "         'B250e': 1,\n",
       "         'Bolt': 17,\n",
       "         'C-Max Energi': 11,\n",
       "         'C-Max Energi ': 106,\n",
       "         'Cayenne S Hybrid': 2,\n",
       "         'E-450 Phoenix': 5,\n",
       "         'ELR': 1,\n",
       "         'F150': 2,\n",
       "         'F450': 2,\n",
       "         'Focus Electric': 9,\n",
       "         'Fusion Energi': 137,\n",
       "         'GLE 550': 1,\n",
       "         'Leaf': 20,\n",
       "         'Model S': 49,\n",
       "         'Model X': 20,\n",
       "         'Prius Prime': 22,\n",
       "         'S90D': 1,\n",
       "         'Sonata': 3,\n",
       "         'Soul EV': 1,\n",
       "         'Volt': 68,\n",
       "         'Volt ': 5,\n",
       "         'X5 40E': 14,\n",
       "         'XC90': 2,\n",
       "         'i3': 5,\n",
       "         'i3 Rex': 1})"
      ]
     },
     "execution_count": 7,
     "metadata": {},
     "output_type": "execute_result"
    }
   ],
   "source": [
    "Counter(rebates[\"Model\"])"
   ]
  },
  {
   "cell_type": "markdown",
   "metadata": {},
   "source": [
    "This one looks good without any processing. We'll strip whitespace just in case"
   ]
  },
  {
   "cell_type": "code",
   "execution_count": 8,
   "metadata": {},
   "outputs": [
    {
     "data": {
      "text/plain": [
       "Counter({'330C': 1,\n",
       "         '330e': 3,\n",
       "         '530E': 1,\n",
       "         'A3 Sportback e-tron': 5,\n",
       "         'B250e': 1,\n",
       "         'Bolt': 17,\n",
       "         'C-Max Energi': 117,\n",
       "         'Cayenne S Hybrid': 2,\n",
       "         'E-450 Phoenix': 5,\n",
       "         'ELR': 1,\n",
       "         'F150': 2,\n",
       "         'F450': 2,\n",
       "         'Focus Electric': 9,\n",
       "         'Fusion Energi': 137,\n",
       "         'GLE 550': 1,\n",
       "         'Leaf': 20,\n",
       "         'Model S': 49,\n",
       "         'Model X': 20,\n",
       "         'Prius Prime': 22,\n",
       "         'S90D': 1,\n",
       "         'Sonata': 3,\n",
       "         'Soul EV': 1,\n",
       "         'Volt': 73,\n",
       "         'X5 40E': 14,\n",
       "         'XC90': 2,\n",
       "         'i3': 5,\n",
       "         'i3 Rex': 1})"
      ]
     },
     "execution_count": 8,
     "metadata": {},
     "output_type": "execute_result"
    }
   ],
   "source": [
    "rebates[\"Model\"] = rebates[\"Model\"].str.strip() # clean whitespace\n",
    "Counter(rebates[\"Model\"])"
   ]
  },
  {
   "cell_type": "markdown",
   "metadata": {},
   "source": [
    "### Vehicle type"
   ]
  },
  {
   "cell_type": "code",
   "execution_count": 9,
   "metadata": {},
   "outputs": [
    {
     "data": {
      "text/plain": [
       "Counter({'Electric': 123,\n",
       "         'Plug-in Hybrid': 383,\n",
       "         'Propane': 7,\n",
       "         'Propane (bi-fuel)': 2})"
      ]
     },
     "execution_count": 9,
     "metadata": {},
     "output_type": "execute_result"
    }
   ],
   "source": [
    "Counter(rebates[\"Vehicle_Type\"])"
   ]
  },
  {
   "cell_type": "markdown",
   "metadata": {},
   "source": [
    "Looks good"
   ]
  },
  {
   "cell_type": "code",
   "execution_count": 10,
   "metadata": {},
   "outputs": [
    {
     "data": {
      "text/plain": [
       "Counter({'Bear': 14,\n",
       "         'Bellefonte': 1,\n",
       "         'Bethany Beach': 3,\n",
       "         'Bridgeville': 5,\n",
       "         'Camden': 3,\n",
       "         'Camden ': 2,\n",
       "         'Camden Wyoming': 4,\n",
       "         'Claymont': 2,\n",
       "         'Clayton': 6,\n",
       "         'Clayton ': 1,\n",
       "         'Dagsboro': 3,\n",
       "         'Delaware City': 1,\n",
       "         'Delmar': 1,\n",
       "         'Dover': 41,\n",
       "         'Elsmere': 1,\n",
       "         'Felton': 3,\n",
       "         'Frankford': 1,\n",
       "         'Georgetown': 2,\n",
       "         'Georgetown ': 1,\n",
       "         'Greenville': 1,\n",
       "         'Greenwood': 2,\n",
       "         'Hartly': 1,\n",
       "         'Hockessin': 14,\n",
       "         'Kenton': 1,\n",
       "         'Laurel': 1,\n",
       "         'Lewes': 24,\n",
       "         'Lincoln': 2,\n",
       "         'Magnolia': 3,\n",
       "         'Magnolia ': 1,\n",
       "         'Marshallton': 1,\n",
       "         'Middletown': 34,\n",
       "         'Middletown ': 5,\n",
       "         'Milford': 7,\n",
       "         'Millsboro': 29,\n",
       "         'Milton': 8,\n",
       "         'Montchanin': 1,\n",
       "         'New Castle': 13,\n",
       "         'New Castle ': 3,\n",
       "         'Newark': 65,\n",
       "         'Newark ': 9,\n",
       "         'Ocean View': 3,\n",
       "         'Port Penn': 1,\n",
       "         'Rehoboth Beach': 9,\n",
       "         'Rockland': 1,\n",
       "         'Seaford': 5,\n",
       "         'Seaford ': 2,\n",
       "         'Selbyville': 2,\n",
       "         'Selbyville ': 1,\n",
       "         'Smyrna': 14,\n",
       "         'Smyrna ': 1,\n",
       "         'Talleyville': 1,\n",
       "         'Townsend': 14,\n",
       "         'Wilmington': 127,\n",
       "         'Wilmington ': 14})"
      ]
     },
     "execution_count": 10,
     "metadata": {},
     "output_type": "execute_result"
    }
   ],
   "source": [
    "Counter(rebates[\"City\"])"
   ]
  },
  {
   "cell_type": "code",
   "execution_count": 11,
   "metadata": {},
   "outputs": [
    {
     "data": {
      "text/plain": [
       "Counter({'Bear': 14,\n",
       "         'Bellefonte': 1,\n",
       "         'Bethany Beach': 3,\n",
       "         'Bridgeville': 5,\n",
       "         'Camden': 5,\n",
       "         'Camden Wyoming': 4,\n",
       "         'Claymont': 2,\n",
       "         'Clayton': 7,\n",
       "         'Dagsboro': 3,\n",
       "         'Delaware City': 1,\n",
       "         'Delmar': 1,\n",
       "         'Dover': 41,\n",
       "         'Elsmere': 1,\n",
       "         'Felton': 3,\n",
       "         'Frankford': 1,\n",
       "         'Georgetown': 3,\n",
       "         'Greenville': 1,\n",
       "         'Greenwood': 2,\n",
       "         'Hartly': 1,\n",
       "         'Hockessin': 14,\n",
       "         'Kenton': 1,\n",
       "         'Laurel': 1,\n",
       "         'Lewes': 24,\n",
       "         'Lincoln': 2,\n",
       "         'Magnolia': 4,\n",
       "         'Marshallton': 1,\n",
       "         'Middletown': 39,\n",
       "         'Milford': 7,\n",
       "         'Millsboro': 29,\n",
       "         'Milton': 8,\n",
       "         'Montchanin': 1,\n",
       "         'New Castle': 16,\n",
       "         'Newark': 74,\n",
       "         'Ocean View': 3,\n",
       "         'Port Penn': 1,\n",
       "         'Rehoboth Beach': 9,\n",
       "         'Rockland': 1,\n",
       "         'Seaford': 7,\n",
       "         'Selbyville': 3,\n",
       "         'Smyrna': 15,\n",
       "         'Talleyville': 1,\n",
       "         'Townsend': 14,\n",
       "         'Wilmington': 141})"
      ]
     },
     "execution_count": 11,
     "metadata": {},
     "output_type": "execute_result"
    }
   ],
   "source": [
    "rebates[\"City\"] = rebates[\"City\"].str.strip() # clean whitespace\n",
    "Counter(rebates[\"City\"])"
   ]
  },
  {
   "cell_type": "markdown",
   "metadata": {},
   "source": [
    "## Save cleaned file"
   ]
  },
  {
   "cell_type": "code",
   "execution_count": 12,
   "metadata": {
    "collapsed": true
   },
   "outputs": [],
   "source": [
    "rebates.to_csv('State_Rebates_for_Alternative-Fuel_Vehicles_cleaned.csv',index=False)"
   ]
  }
 ],
 "metadata": {
  "kernelspec": {
   "display_name": "Python 3",
   "language": "python",
   "name": "python3"
  },
  "language_info": {
   "codemirror_mode": {
    "name": "ipython",
    "version": 3
   },
   "file_extension": ".py",
   "mimetype": "text/x-python",
   "name": "python",
   "nbconvert_exporter": "python",
   "pygments_lexer": "ipython3",
   "version": "3.6.2"
  }
 },
 "nbformat": 4,
 "nbformat_minor": 2
}
